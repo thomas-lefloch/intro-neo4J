{
 "cells": [
  {
   "cell_type": "code",
   "execution_count": 40,
   "id": "c3e454a0",
   "metadata": {},
   "outputs": [],
   "source": [
    "import spacy\n",
    "from spacy import displacy\n",
    "from IPython.display import display\n",
    "import pandas as pd\n",
    "\n",
    "nlp = spacy.load(\"fr_core_news_sm\")"
   ]
  },
  {
   "cell_type": "code",
   "execution_count": null,
   "id": "51f1bf37",
   "metadata": {},
   "outputs": [],
   "source": [
    "# soit ligne par ligne\n",
    "\n",
    "# lines = []\n",
    "# with open(\"text1.txt\", \"r\") as text1:\n",
    "#     lines.append(text1.readline())\n"
   ]
  },
  {
   "cell_type": "code",
   "execution_count": 41,
   "id": "b60a379c",
   "metadata": {},
   "outputs": [
    {
     "name": "stdout",
     "output_type": "stream",
     "text": [
      "Nombre de token:  1890\n"
     ]
    }
   ],
   "source": [
    "# Soit tout le texte d'un coup\n",
    "fulltext = \"\"\n",
    "with open(\"text1.txt\", \"r\", encoding=\"utf-8\") as text1:\n",
    "    fulltext = text1.read()\n",
    "\n",
    "\n",
    "doc = nlp(fulltext)\n",
    "\n",
    "print(\"Nombre de token: \", len(doc))"
   ]
  },
  {
   "cell_type": "code",
   "execution_count": 38,
   "id": "a0c746f2",
   "metadata": {},
   "outputs": [
    {
     "name": "stdout",
     "output_type": "stream",
     "text": [
      "Graphe syntaxique de la première phrase du text1\n"
     ]
    },
    {
     "data": {
      "text/html": [
       "<span class=\"tex2jax_ignore\"><svg xmlns=\"http://www.w3.org/2000/svg\" xmlns:xlink=\"http://www.w3.org/1999/xlink\" xml:lang=\"fr\" id=\"03d672907d5c48e595d038afe9587997-0\" class=\"displacy\" width=\"1450\" height=\"487.0\" direction=\"ltr\" style=\"max-width: none; height: 487.0px; color: #000000; background: #ffffff; font-family: Arial; direction: ltr\">\n",
       "<text class=\"displacy-token\" fill=\"currentColor\" text-anchor=\"middle\" y=\"397.0\">\n",
       "    <tspan class=\"displacy-word\" fill=\"currentColor\" x=\"50\">Longtemps,</tspan>\n",
       "    <tspan class=\"displacy-tag\" dy=\"2em\" fill=\"currentColor\" x=\"50\">ADV</tspan>\n",
       "</text>\n",
       "\n",
       "<text class=\"displacy-token\" fill=\"currentColor\" text-anchor=\"middle\" y=\"397.0\">\n",
       "    <tspan class=\"displacy-word\" fill=\"currentColor\" x=\"225\">je</tspan>\n",
       "    <tspan class=\"displacy-tag\" dy=\"2em\" fill=\"currentColor\" x=\"225\">PRON</tspan>\n",
       "</text>\n",
       "\n",
       "<text class=\"displacy-token\" fill=\"currentColor\" text-anchor=\"middle\" y=\"397.0\">\n",
       "    <tspan class=\"displacy-word\" fill=\"currentColor\" x=\"400\">me</tspan>\n",
       "    <tspan class=\"displacy-tag\" dy=\"2em\" fill=\"currentColor\" x=\"400\">PRON</tspan>\n",
       "</text>\n",
       "\n",
       "<text class=\"displacy-token\" fill=\"currentColor\" text-anchor=\"middle\" y=\"397.0\">\n",
       "    <tspan class=\"displacy-word\" fill=\"currentColor\" x=\"575\">suis</tspan>\n",
       "    <tspan class=\"displacy-tag\" dy=\"2em\" fill=\"currentColor\" x=\"575\">AUX</tspan>\n",
       "</text>\n",
       "\n",
       "<text class=\"displacy-token\" fill=\"currentColor\" text-anchor=\"middle\" y=\"397.0\">\n",
       "    <tspan class=\"displacy-word\" fill=\"currentColor\" x=\"750\">couché</tspan>\n",
       "    <tspan class=\"displacy-tag\" dy=\"2em\" fill=\"currentColor\" x=\"750\">VERB</tspan>\n",
       "</text>\n",
       "\n",
       "<text class=\"displacy-token\" fill=\"currentColor\" text-anchor=\"middle\" y=\"397.0\">\n",
       "    <tspan class=\"displacy-word\" fill=\"currentColor\" x=\"925\">de</tspan>\n",
       "    <tspan class=\"displacy-tag\" dy=\"2em\" fill=\"currentColor\" x=\"925\">ADP</tspan>\n",
       "</text>\n",
       "\n",
       "<text class=\"displacy-token\" fill=\"currentColor\" text-anchor=\"middle\" y=\"397.0\">\n",
       "    <tspan class=\"displacy-word\" fill=\"currentColor\" x=\"1100\">bonne</tspan>\n",
       "    <tspan class=\"displacy-tag\" dy=\"2em\" fill=\"currentColor\" x=\"1100\">ADJ</tspan>\n",
       "</text>\n",
       "\n",
       "<text class=\"displacy-token\" fill=\"currentColor\" text-anchor=\"middle\" y=\"397.0\">\n",
       "    <tspan class=\"displacy-word\" fill=\"currentColor\" x=\"1275\">heure.</tspan>\n",
       "    <tspan class=\"displacy-tag\" dy=\"2em\" fill=\"currentColor\" x=\"1275\">NOUN</tspan>\n",
       "</text>\n",
       "\n",
       "<g class=\"displacy-arrow\">\n",
       "    <path class=\"displacy-arc\" id=\"arrow-03d672907d5c48e595d038afe9587997-0-0\" stroke-width=\"2px\" d=\"M70,352.0 C70,2.0 750.0,2.0 750.0,352.0\" fill=\"none\" stroke=\"currentColor\"/>\n",
       "    <text dy=\"1.25em\" style=\"font-size: 0.8em; letter-spacing: 1px\">\n",
       "        <textPath xlink:href=\"#arrow-03d672907d5c48e595d038afe9587997-0-0\" class=\"displacy-label\" startOffset=\"50%\" side=\"left\" fill=\"currentColor\" text-anchor=\"middle\">advmod</textPath>\n",
       "    </text>\n",
       "    <path class=\"displacy-arrowhead\" d=\"M70,354.0 L62,342.0 78,342.0\" fill=\"currentColor\"/>\n",
       "</g>\n",
       "\n",
       "<g class=\"displacy-arrow\">\n",
       "    <path class=\"displacy-arc\" id=\"arrow-03d672907d5c48e595d038afe9587997-0-1\" stroke-width=\"2px\" d=\"M245,352.0 C245,89.5 745.0,89.5 745.0,352.0\" fill=\"none\" stroke=\"currentColor\"/>\n",
       "    <text dy=\"1.25em\" style=\"font-size: 0.8em; letter-spacing: 1px\">\n",
       "        <textPath xlink:href=\"#arrow-03d672907d5c48e595d038afe9587997-0-1\" class=\"displacy-label\" startOffset=\"50%\" side=\"left\" fill=\"currentColor\" text-anchor=\"middle\">nsubj</textPath>\n",
       "    </text>\n",
       "    <path class=\"displacy-arrowhead\" d=\"M245,354.0 L237,342.0 253,342.0\" fill=\"currentColor\"/>\n",
       "</g>\n",
       "\n",
       "<g class=\"displacy-arrow\">\n",
       "    <path class=\"displacy-arc\" id=\"arrow-03d672907d5c48e595d038afe9587997-0-2\" stroke-width=\"2px\" d=\"M420,352.0 C420,177.0 740.0,177.0 740.0,352.0\" fill=\"none\" stroke=\"currentColor\"/>\n",
       "    <text dy=\"1.25em\" style=\"font-size: 0.8em; letter-spacing: 1px\">\n",
       "        <textPath xlink:href=\"#arrow-03d672907d5c48e595d038afe9587997-0-2\" class=\"displacy-label\" startOffset=\"50%\" side=\"left\" fill=\"currentColor\" text-anchor=\"middle\">iobj</textPath>\n",
       "    </text>\n",
       "    <path class=\"displacy-arrowhead\" d=\"M420,354.0 L412,342.0 428,342.0\" fill=\"currentColor\"/>\n",
       "</g>\n",
       "\n",
       "<g class=\"displacy-arrow\">\n",
       "    <path class=\"displacy-arc\" id=\"arrow-03d672907d5c48e595d038afe9587997-0-3\" stroke-width=\"2px\" d=\"M595,352.0 C595,264.5 735.0,264.5 735.0,352.0\" fill=\"none\" stroke=\"currentColor\"/>\n",
       "    <text dy=\"1.25em\" style=\"font-size: 0.8em; letter-spacing: 1px\">\n",
       "        <textPath xlink:href=\"#arrow-03d672907d5c48e595d038afe9587997-0-3\" class=\"displacy-label\" startOffset=\"50%\" side=\"left\" fill=\"currentColor\" text-anchor=\"middle\">aux:tense</textPath>\n",
       "    </text>\n",
       "    <path class=\"displacy-arrowhead\" d=\"M595,354.0 L587,342.0 603,342.0\" fill=\"currentColor\"/>\n",
       "</g>\n",
       "\n",
       "<g class=\"displacy-arrow\">\n",
       "    <path class=\"displacy-arc\" id=\"arrow-03d672907d5c48e595d038afe9587997-0-4\" stroke-width=\"2px\" d=\"M945,352.0 C945,177.0 1265.0,177.0 1265.0,352.0\" fill=\"none\" stroke=\"currentColor\"/>\n",
       "    <text dy=\"1.25em\" style=\"font-size: 0.8em; letter-spacing: 1px\">\n",
       "        <textPath xlink:href=\"#arrow-03d672907d5c48e595d038afe9587997-0-4\" class=\"displacy-label\" startOffset=\"50%\" side=\"left\" fill=\"currentColor\" text-anchor=\"middle\">case</textPath>\n",
       "    </text>\n",
       "    <path class=\"displacy-arrowhead\" d=\"M945,354.0 L937,342.0 953,342.0\" fill=\"currentColor\"/>\n",
       "</g>\n",
       "\n",
       "<g class=\"displacy-arrow\">\n",
       "    <path class=\"displacy-arc\" id=\"arrow-03d672907d5c48e595d038afe9587997-0-5\" stroke-width=\"2px\" d=\"M1120,352.0 C1120,264.5 1260.0,264.5 1260.0,352.0\" fill=\"none\" stroke=\"currentColor\"/>\n",
       "    <text dy=\"1.25em\" style=\"font-size: 0.8em; letter-spacing: 1px\">\n",
       "        <textPath xlink:href=\"#arrow-03d672907d5c48e595d038afe9587997-0-5\" class=\"displacy-label\" startOffset=\"50%\" side=\"left\" fill=\"currentColor\" text-anchor=\"middle\">amod</textPath>\n",
       "    </text>\n",
       "    <path class=\"displacy-arrowhead\" d=\"M1120,354.0 L1112,342.0 1128,342.0\" fill=\"currentColor\"/>\n",
       "</g>\n",
       "\n",
       "<g class=\"displacy-arrow\">\n",
       "    <path class=\"displacy-arc\" id=\"arrow-03d672907d5c48e595d038afe9587997-0-6\" stroke-width=\"2px\" d=\"M770,352.0 C770,89.5 1270.0,89.5 1270.0,352.0\" fill=\"none\" stroke=\"currentColor\"/>\n",
       "    <text dy=\"1.25em\" style=\"font-size: 0.8em; letter-spacing: 1px\">\n",
       "        <textPath xlink:href=\"#arrow-03d672907d5c48e595d038afe9587997-0-6\" class=\"displacy-label\" startOffset=\"50%\" side=\"left\" fill=\"currentColor\" text-anchor=\"middle\">obl:mod</textPath>\n",
       "    </text>\n",
       "    <path class=\"displacy-arrowhead\" d=\"M1270.0,354.0 L1278.0,342.0 1262.0,342.0\" fill=\"currentColor\"/>\n",
       "</g>\n",
       "</svg></span>"
      ],
      "text/plain": [
       "<IPython.core.display.HTML object>"
      ]
     },
     "metadata": {},
     "output_type": "display_data"
    }
   ],
   "source": [
    "print(\"Graphe syntaxique de la première phrase du text1\")\n",
    "displacy.render(doc[:10], style=\"dep\", jupyter=True)"
   ]
  },
  {
   "cell_type": "code",
   "execution_count": 63,
   "id": "26004a03",
   "metadata": {},
   "outputs": [
    {
     "name": "stdout",
     "output_type": "stream",
     "text": [
      "Troisième token:  couché (couché), index:  5\n",
      "Voisins:  [Longtemps, ,, je, me, suis] [heure, .]\n",
      "Phrase:  Longtemps, je me suis couché de bonne heure.\n",
      "Edges:  Longtemps .\n",
      "Entity type:  0\n",
      "Lemma:  10940960452429598961 coucher\n",
      "Norm:  11184698726792784299 couché\n",
      "Shape:  13110060611322374290 xxxx\n",
      "Tag:  100 VERB\n",
      "Sentiment:  0.0\n",
      "-----\n",
      "Troisième token:  Longtemps (Longtemps), index:  0\n",
      "Voisins:  [] []\n",
      "Phrase:  Longtemps, je me suis couché de bonne heure.\n",
      "Edges:  Longtemps Longtemps\n",
      "Entity type:  0\n",
      "Lemma:  10169700273540668978 longtemps\n",
      "Norm:  10169700273540668978 longtemps\n",
      "Shape:  16072095006890171862 Xxxxx\n",
      "Tag:  86 ADV\n",
      "Sentiment:  0.0\n",
      "-----\n"
     ]
    }
   ],
   "source": [
    "def print_token_info(token):\n",
    "    print(\"Troisième token: \", token, f'({token.text}), index: ', token.i)\n",
    "    print(\"Voisins: \", list(token.lefts), list(token.rights))\n",
    "\n",
    "    print(\"Phrase: \", token.sent)\n",
    "    print(\"Edges: \", token.left_edge, token.right_edge)\n",
    "    print(\"Entity type: \", token.ent_type)\n",
    "    print(\"Lemma: \", token.lemma, token.lemma_)\n",
    "    print(\"Norm: \", token.norm, token.norm_)\n",
    "    print(\"Shape: \", token.shape, token.shape_)\n",
    "    print(\"Tag: \", token.tag, token.tag_)\n",
    "    print(\"Sentiment: \", token.sentiment)\n",
    "    print(\"-----\")\n",
    "\n",
    "print_token_info(doc[5])\n",
    "# print_token_info(doc[2])\n",
    "# print_token_info(doc[7])\n",
    "print_token_info(doc[0])"
   ]
  },
  {
   "cell_type": "markdown",
   "id": "2c857d04",
   "metadata": {},
   "source": [
    "Insérer les données dans Neo4j"
   ]
  },
  {
   "cell_type": "code",
   "execution_count": 64,
   "id": "c0d0df37",
   "metadata": {},
   "outputs": [],
   "source": [
    "from neo4j import GraphDatabase\n",
    "\n",
    "URI = \"neo4j://localhost:7687\"\n",
    "\n",
    "with GraphDatabase.driver(URI, auth=None) as driver:\n",
    "    driver.verify_connectivity()"
   ]
  },
  {
   "cell_type": "code",
   "execution_count": null,
   "id": "0038bc44",
   "metadata": {},
   "outputs": [],
   "source": []
  },
  {
   "cell_type": "markdown",
   "id": "be72ed7c",
   "metadata": {},
   "source": [
    "Lister tous les verbes du corpus"
   ]
  },
  {
   "cell_type": "code",
   "execution_count": null,
   "id": "51425151",
   "metadata": {},
   "outputs": [],
   "source": []
  },
  {
   "cell_type": "markdown",
   "id": "8e87e0f8",
   "metadata": {},
   "source": [
    "Trouver les sujets d’un verbe donné : demander\n",
    "Exemple : pour le verbe “manger”, afficher les tokens reliés par :DEP {label:\"nsubj\"}."
   ]
  },
  {
   "cell_type": "code",
   "execution_count": null,
   "id": "45a32c73",
   "metadata": {},
   "outputs": [],
   "source": []
  },
  {
   "cell_type": "markdown",
   "id": "305017ab",
   "metadata": {},
   "source": [
    "Trouver les objets directs associés aux verbes\n",
    "→ relations :DEP {label:\"dobj\"}."
   ]
  },
  {
   "cell_type": "code",
   "execution_count": null,
   "id": "e4dabb87",
   "metadata": {},
   "outputs": [],
   "source": []
  },
  {
   "cell_type": "markdown",
   "id": "1d0e2ef8",
   "metadata": {},
   "source": [
    "Compter combien de fois chaque dépendance grammaticale apparaît\n"
   ]
  },
  {
   "cell_type": "code",
   "execution_count": null,
   "id": "33512e9b",
   "metadata": {},
   "outputs": [],
   "source": []
  },
  {
   "cell_type": "markdown",
   "id": "88991c39",
   "metadata": {},
   "source": [
    "Lister les adjectifs qui qualifient un nom donné : esprit, oiseau, train\n"
   ]
  },
  {
   "cell_type": "code",
   "execution_count": null,
   "id": "c33afe73",
   "metadata": {},
   "outputs": [],
   "source": []
  },
  {
   "cell_type": "markdown",
   "id": "ce951fed",
   "metadata": {},
   "source": [
    "Mesurer les verbes les plus utilisés dans le corpus (avec une requête Cypher)\n"
   ]
  },
  {
   "cell_type": "code",
   "execution_count": null,
   "id": "2b3c12e3",
   "metadata": {},
   "outputs": [],
   "source": []
  },
  {
   "cell_type": "markdown",
   "id": "ba86d393",
   "metadata": {},
   "source": [
    "Bonus:\n",
    "Construire des couples Sujet–Verbe–Objet\n",
    "Exemple : (\"chat\" - \"mange\" - \"souris\")."
   ]
  },
  {
   "cell_type": "code",
   "execution_count": null,
   "id": "b0d4246e",
   "metadata": {},
   "outputs": [],
   "source": []
  },
  {
   "cell_type": "markdown",
   "id": "0cb4a846",
   "metadata": {},
   "source": [
    "Bonus (dans l’ordre) : \n",
    "Calculez le graph de cooccurrence sous forme d’une matrice à partir du premier texte, importez ce graph dans neo4j puis mettez à jour ce graphe de cooccurrence  depuis le deuxième texte (il y a des mots en commun entre ces deux paragraphes vous vous en doutez) et mettez à jour la base neo4j.\n",
    "Faites des recherches sur Neo4j Graph Data Science (GDS Library) et trouvez un algorithme de recherche de chemin le plus court, faites-en la description et expliquer comment l’utiliser avec cette librairie officielle\n"
   ]
  },
  {
   "cell_type": "code",
   "execution_count": null,
   "id": "9e00475d",
   "metadata": {},
   "outputs": [],
   "source": []
  }
 ],
 "metadata": {
  "kernelspec": {
   "display_name": ".venv",
   "language": "python",
   "name": "python3"
  },
  "language_info": {
   "codemirror_mode": {
    "name": "ipython",
    "version": 3
   },
   "file_extension": ".py",
   "mimetype": "text/x-python",
   "name": "python",
   "nbconvert_exporter": "python",
   "pygments_lexer": "ipython3",
   "version": "3.13.7"
  }
 },
 "nbformat": 4,
 "nbformat_minor": 5
}
